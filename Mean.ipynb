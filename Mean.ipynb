{
 "cells": [
  {
   "cell_type": "code",
   "execution_count": 5,
   "id": "453cbd3c-9771-426c-a206-e8aec09938e6",
   "metadata": {},
   "outputs": [],
   "source": [
    "def findMean(x):\n",
    "    \n",
    "    y = 0\n",
    "    tot = 0\n",
    "    \n",
    "    for i in x:\n",
    "        y = y + i\n",
    "        tot = tot + 1\n",
    "    \n",
    "    mean = y / tot\n",
    "    \n",
    "    return mean, tot"
   ]
  }
 ],
 "metadata": {
  "kernelspec": {
   "display_name": "Python 3 (ipykernel)",
   "language": "python",
   "name": "python3"
  },
  "language_info": {
   "codemirror_mode": {
    "name": "ipython",
    "version": 3
   },
   "file_extension": ".py",
   "mimetype": "text/x-python",
   "name": "python",
   "nbconvert_exporter": "python",
   "pygments_lexer": "ipython3",
   "version": "3.9.6"
  }
 },
 "nbformat": 4,
 "nbformat_minor": 5
}

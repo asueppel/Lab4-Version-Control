{
 "cells": [
  {
   "cell_type": "code",
   "execution_count": 3,
   "id": "3d033d1a-a17a-415c-8783-96aa149b3728",
   "metadata": {},
   "outputs": [],
   "source": [
    "import math\n",
    "\n",
    "def calcHyp(a, b):\n",
    "    \n",
    "    c = (a ** 2) + (b ** 2)\n",
    "    c = math.sqrt(c)\n",
    "    \n",
    "    return c"
   ]
  }
 ],
 "metadata": {
  "kernelspec": {
   "display_name": "Python 3 (ipykernel)",
   "language": "python",
   "name": "python3"
  },
  "language_info": {
   "codemirror_mode": {
    "name": "ipython",
    "version": 3
   },
   "file_extension": ".py",
   "mimetype": "text/x-python",
   "name": "python",
   "nbconvert_exporter": "python",
   "pygments_lexer": "ipython3",
   "version": "3.9.6"
  }
 },
 "nbformat": 4,
 "nbformat_minor": 5
}
